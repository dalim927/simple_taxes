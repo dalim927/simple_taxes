{
 "cells": [
  {
   "cell_type": "markdown",
   "metadata": {},
   "source": [
    "# Tax Calculator\n",
    "### Following documentation found here: https://github.com/justinmart/simple_taxes\n",
    "\n",
    "This project simplifies the process of determining profit-and-loss for cryptocurrency trades. It will provide:\n",
    "\n",
    "A detailed report containing information about every trade\n",
    "A detailed profit-and-loss calculation on every trade\n",
    "A simplified report containing basic profit-and-loss data on each trade (useful for Tax Accountants or for tax filings)\n",
    "A report on aggreagate profit-and-loss from all trades by year, and by short-term vs long-term gains\n",
    "A report on all errors encountered in the process\n",
    "\n",
    "It supports trades from all the major US Exchanges and some international exchanges via csv and xlsx trading history files.\n",
    "\n",
    "Coinbase, Coinbase Pro, Binance, Gemini, Kraken, Poloniex, Bitfinex, Bittrex, and Circle. It also supports manual trades via entering them into a spreadsheet and saving a copy as a .csv\n",
    "\n",
    "These instructions will get you a copy of the project up and running on your local machine, and guidance on how to obtain your own tax reports.\n",
    "\n",
    "* Go to each supported exchange for which you have trades and download a csv or xlsx of your trade history\n",
    "* Put these csv or xlsx files into the appropriate folder inside the data/ directory (the program will automatically parse all files in the correct folders)\n",
    "* For any trades that are from unsupported exchanges, or any other manual trades (ICOs, forks, in-person or on-chain trades, etc) populate a spreadsheet with a specific format (see full documentation as provided in the link above)\n",
    "* Run the script in this jupyter notebook, which populates 5 files in the output folder:\n",
    "    - trades.csv : Detailed information regarding every trade across all exchanges and currencies\n",
    "    - errors : Information on any errors or any trades left out of the calculations\n",
    "    - pnl.cvs : Profit-and-loss calculations for each trade, including long-term vs short-term gains\n",
    "    - total_pnl : Aggregate information on profit and loss for each year, by short term vs long term\n",
    "    - tax_reporting_data : A spreadsheet intended to be sent to the IRS or a tax accountant which details every trade and the profit-and-loss associated with each"
   ]
  },
  {
   "cell_type": "code",
   "execution_count": null,
   "metadata": {},
   "outputs": [],
   "source": [
    "from taxes import Taxes\n",
    "\n",
    "import matplotlib.pyplot as plt\n",
    "%matplotlib inline\n",
    "plt.style.use('ggplot')"
   ]
  },
  {
   "cell_type": "code",
   "execution_count": null,
   "metadata": {},
   "outputs": [],
   "source": [
    "# Set the current year\n",
    "current_year = 2020"
   ]
  },
  {
   "cell_type": "code",
   "execution_count": null,
   "metadata": {
    "scrolled": false
   },
   "outputs": [],
   "source": [
    "trades, errors, pnl, total_pnl, tax_reporting_data, remaining_funds = Taxes().run()"
   ]
  },
  {
   "cell_type": "code",
   "execution_count": null,
   "metadata": {},
   "outputs": [],
   "source": [
    "print \"Latest trades recorded:\\n\"\n",
    "for _ in trades.groupby(['platform'])['created_at'].max().iteritems():\n",
    "    print \"{:<40}\".format(_[0]), _[1]"
   ]
  },
  {
   "cell_type": "code",
   "execution_count": null,
   "metadata": {},
   "outputs": [],
   "source": [
    "total_pnl"
   ]
  },
  {
   "cell_type": "code",
   "execution_count": null,
   "metadata": {},
   "outputs": [],
   "source": [
    "print \"Total PNL: \", int(total_pnl.loc[current_year].sum())"
   ]
  },
  {
   "cell_type": "code",
   "execution_count": null,
   "metadata": {},
   "outputs": [],
   "source": [
    "print \"Current PNL contributions for\"\n",
    "a = pnl[pnl['year'] == current_year].copy()\n",
    "a.groupby(['currency']).pnl.sum().sort_values(ascending=False)"
   ]
  },
  {
   "cell_type": "markdown",
   "metadata": {},
   "source": [
    "# Sales Calculator\n",
    "## Calculates how selling crypto assets will affect your capital gains. \n",
    "### (1) How much can you sell to minimize total capital gains for this year?\n",
    "### (2) How much can you sell to maximize total profit while not impacting your current capital gains amount? "
   ]
  },
  {
   "cell_type": "markdown",
   "metadata": {},
   "source": [
    "#### In order to use the Sales Calculator, you need to obtain a free API key from Coinmarketcap.com\n",
    "Go go https://coinmarketcap.com/api/ and sign up for a their free basic API. Enter the provided key on the current_exchange_rates.py file on line 6. "
   ]
  },
  {
   "cell_type": "code",
   "execution_count": null,
   "metadata": {},
   "outputs": [],
   "source": [
    "import current_exchange_rates\n",
    "import sales_calculator\n",
    "reload(sales_calculator)\n",
    "\n",
    "\n",
    "# pnl_threshold:     With LIFO, when selling crypto assets the first few sales could increase \n",
    "#                    PNL before getting to other assets that would decrease PNL. This threshold \n",
    "#                    allows you increase PNL up to <X> before stopping the process. \n",
    "#                    Default is $10,000\n",
    "threshold = 10000"
   ]
  },
  {
   "cell_type": "code",
   "execution_count": null,
   "metadata": {},
   "outputs": [],
   "source": [
    "sales_auth = sales_calculator.SalesCalculator(year=current_year)"
   ]
  },
  {
   "cell_type": "code",
   "execution_count": null,
   "metadata": {},
   "outputs": [],
   "source": [
    "sales = sales_auth.sales_data(\n",
    "    pnl=pnl,\n",
    "    remaining_funds=remaining_funds,\n",
    "    pnl_threshold=threshold,\n",
    ")"
   ]
  },
  {
   "cell_type": "code",
   "execution_count": null,
   "metadata": {
    "scrolled": false
   },
   "outputs": [],
   "source": [
    "sales_summary = sales_auth.find_min_max_pnl(sales)"
   ]
  },
  {
   "cell_type": "code",
   "execution_count": null,
   "metadata": {
    "scrolled": false
   },
   "outputs": [],
   "source": [
    "for _ in sales.currency.unique():\n",
    "    print \"Sales Simulator for {}\".format(_)\n",
    "    temp = sales[sales['currency'] == _].copy()\n",
    "    plt.plot(temp['rolling_amount'], temp[['rolling_sales','rolling_pnl']])\n",
    "    plt.legend(['Total $ Sold', 'Total PNL Impact']) \n",
    "    plt.show()"
   ]
  },
  {
   "cell_type": "code",
   "execution_count": null,
   "metadata": {},
   "outputs": [],
   "source": [
    "sales_auth.final_pnl_and_sales(\n",
    "    coins_to_sell=[_ for _ in sales_summary.keys() if _ not in ['total_min', 'total_max']],\n",
    "    summary=sales_summary,\n",
    "    total_pnl=pnl\n",
    ")"
   ]
  },
  {
   "cell_type": "code",
   "execution_count": null,
   "metadata": {},
   "outputs": [],
   "source": [
    "print \"Current holdings (based on your trading history):\"\n",
    "for _ in remaining_funds.currency.unique():\n",
    "    print \"{:<5}\".format(_), \" {:<20}\".format(remaining_funds[remaining_funds['currency'] == _].amount.sum())"
   ]
  },
  {
   "cell_type": "code",
   "execution_count": null,
   "metadata": {
    "collapsed": true
   },
   "outputs": [],
   "source": []
  }
 ],
 "metadata": {
  "kernelspec": {
   "display_name": "Python 2",
   "language": "python",
   "name": "python2"
  },
  "language_info": {
   "codemirror_mode": {
    "name": "ipython",
    "version": 2
   },
   "file_extension": ".py",
   "mimetype": "text/x-python",
   "name": "python",
   "nbconvert_exporter": "python",
   "pygments_lexer": "ipython2",
   "version": "2.7.14"
  }
 },
 "nbformat": 4,
 "nbformat_minor": 2
}
